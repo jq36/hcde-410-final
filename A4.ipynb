{
 "cells": [
  {
   "cell_type": "markdown",
   "id": "16d43502-8dd0-4dc4-8f45-5dbba30baa57",
   "metadata": {},
   "source": [
    "# HCDE 410 Final Project Proposal\n",
    "**Author**: Jiatao Quan\n",
    "**Date**: 2024.11.4"
   ]
  },
  {
   "cell_type": "markdown",
   "id": "0f5ddb9d-6bc0-449d-9ff3-ebf1a28d0c95",
   "metadata": {},
   "source": [
    "## Overview\n",
    "This project seeks to systematically investigate the impact of various attributes of Google Play Store applications on user ratings and to develop a predictive model that estimates app ratings based on these attributes. With the widespread adoption of smartphones and the rapid expansion of app marketplaces, understanding the key factors that drive user satisfaction is crucial for developers and marketers aiming to optimize app performance. This study applies machine learning techniques to conduct a quantitative analysis of features such as app category, install count, and pricing, exploring how these attributes influence user ratings. The project's outcomes include a set of data-driven optimization strategies that provide theoretical and empirical support for app design and marketing, ultimately enhancing user experience and strengthening the competitive edge of applications in the marketplace."
   ]
  },
  {
   "cell_type": "markdown",
   "id": "d9227169-9a7e-4b6b-96a2-28d08262162e",
   "metadata": {},
   "source": [
    "## 2. Motivation and Problem Statement"
   ]
  },
  {
   "cell_type": "markdown",
   "id": "73bff102-a8f4-4d91-b3f6-ae7086e4d798",
   "metadata": {},
   "source": [
    "### 2.1 Research Question"
   ]
  },
  {
   "cell_type": "markdown",
   "id": "90caf8b1-1ea4-4d9a-ac5c-c70f1075976a",
   "metadata": {},
   "source": [
    "How do various attributes of Google Play Store applications impact their ratings? Can we\n",
    "predict an application’s rating based on these attributes?"
   ]
  },
  {
   "cell_type": "markdown",
   "id": "b05e2213-bb83-428d-8609-0b903bc6de3a",
   "metadata": {},
   "source": [
    "### 2.2 Motivation\n",
    "With the widespread use of smartphones and the rapid expansion of app stores, the diversity and sheer number of applications continue to grow. Understanding how specific app attributes impact user ratings is essential for developers and marketers seeking to optimize app performance and enhance user satisfaction in a highly competitive marketplace. This project aims to investigate these relationships, providing insights to guide effective design and promotional strategies for applications.\n",
    "\n",
    "This project proposal's contributions are as follows:\n",
    "\n",
    "**1.** This project applies machine learning techniques to quantify the influence of app characteristics, such as category, install count, and price, on user satisfaction, creating a rigorous foundation for app optimization strategies.\n",
    "\n",
    "**2** The predictive model developed here offers actionable insights that can assist developers and marketers in crafting apps that are more likely to achieve high ratings, directly informing design and promotion efforts.\n",
    "\n",
    "**3.** By analyzing user preferences, this study can provide insights for helping app design with user expectations, enhancing the overall user experience in application interactions."
   ]
  },
  {
   "cell_type": "markdown",
   "id": "4441b550-0f0f-4d15-a453-d6779b6b2dc3",
   "metadata": {},
   "source": [
    "## 3. Background & Related Work\n",
    "With the widespread adoption of smartphones and the rapid growth of the mobile app market,\n",
    "the number and variety of applications in app stores have been continuously increasing, raising\n",
    "user expectations and demands in app selection. However, standing out among numerous appli-\n",
    "cations, attracting, and retaining users have become major challenges for developers. Existing\n",
    "research has shown that various app characteristics significantly impact user ratings, influenc-\n",
    "ing an app’s market performance. Understanding how these characteristics affect user ratings is\n",
    "crucial for developers and marketers in formulating effective product design and promotional\n",
    "strategies.\n",
    "\n",
    "Previous studies have explored the impact of app characteristics on user feedback and ratings\n",
    "from multiple perspectives. For instance, app category and functionality have been identified\n",
    "as key factors affecting ratings [5]. Additionally, pricing, as an important economic factor,\n",
    "significantly influences user rating behavior. Frederik (2020) found that users tend to rate paid\n",
    "apps higher, possibly because they have higher expectations for the quality and features of paid\n",
    "apps, leading to increased satisfaction and a sense of value [7].\n",
    "\n",
    "Moreover, an app’s User Experience (UX) and User Interface (UI) design also have sig-\n",
    "nificant effects on user ratings. Research has highlighted that factors such as loading speed,\n",
    "stability, interface design, and interactivity directly influence user experience and satisfaction\n",
    "[6]. Media reports also indicate that slow loading times and complex interfaces are more likely\n",
    "to receive low ratings [4]. Furthermore, studies emphasize the role of UI design attractiveness\n",
    "and ease of use in generating positive user feedback [3].\n",
    "\n",
    "Another important factor affecting ratings is the app’s update frequency. Frequent updates\n",
    "indicate the developer’s commitment to maintaining the app, whereas a lack of updates may\n",
    "be perceived by users as a lack of support and improvement. Apps with more frequent updates\n",
    "tend to receive higher ratings, as users are more inclined to trust frequently maintained apps [1].\n",
    "Building on existing literature, this study systematically analyzes the impact of various app\n",
    "attributes on user ratings in the Google Play Store and constructs a predictive model to fore-\n",
    "cast ratings based on these attributes. By applying machine learning techniques, this research\n",
    "aims to reveal both the direct and indirect effects of app attributes on ratings, providing data-\n",
    "driven empirical support for app development and marketing strategies. This approach aims to\n",
    "optimize user experience and enhance app competitiveness in the market."
   ]
  },
  {
   "cell_type": "markdown",
   "id": "61eccdb0-11d0-4f4a-a2a2-fa052b98a96c",
   "metadata": {},
   "source": [
    "## 4. Methodology"
   ]
  },
  {
   "cell_type": "markdown",
   "id": "02a3a079-7c3d-40c1-b932-dbdc25d3da68",
   "metadata": {},
   "source": [
    "### 4.1 Data Selection for Analysis\n",
    "**Dataset**: The project utilizes the publicly available Google Play Store dataset [1] from *Kaggle*, which includes extensive information about applications, such as their name, category, rating, number\n",
    "of reviews, size, installs, type (free/paid), price, content rating, and last updated date (Kaggle,Google Play Store Apps Rating Prediction).\n",
    "\n",
    "**Dataset Link**\n",
    "https://www.kaggle.com/code/arunjangir245/google-playstore-apps-rating-prediction\n",
    "\n",
    "**Data Licensing and Usage Terms** The dataset is publicly available on Kaggle and follows Kaggle’s usage terms. It has been released under the Apache 2.0 open source license.\n",
    "\n",
    "**Suitability for Study** This dataset is suitable for exploring the relationship between app\n",
    "attributes and ratings due to its diversity and rich attribute information. Each feature contributes\n",
    "uniquely to understanding user behavior and preferences. The following list provides a brief\n",
    "explanation of each feature’s use in this study:"
   ]
  },
  {
   "cell_type": "markdown",
   "id": "f75d170d-e9e8-4a3c-bd37-a7809a89939b",
   "metadata": {},
   "source": [
    "• App: Application name (for reference only, not used in the model).\n",
    "\n",
    "• Category: The app category, useful for examining rating variation across different categories.\n",
    "\n",
    "• Rating: Target variable, reflecting user satisfaction with the application.\n",
    "\n",
    "• Reviews: The number of user reviews, indicating engagement and popularity.\n",
    "\n",
    "• Size: Application size, which may correlate with resource usage and complexity.\n",
    "\n",
    "• Installs: Number of installs, representing overall user preference.\n",
    "\n",
    "• Type: App type (free/paid), to analyze rating differences between free and paid applications.\n",
    "\n",
    "• Price: App price (0 for free), to explore the impact of pricing strategy on ratings.\n",
    "\n",
    "• Content Rating: Content rating indicates the app’s target audience age group.\n",
    "\n",
    "• Genres: A more granular category for the application, useful for refined analysis.\n",
    "\n",
    "• Last Updated: The date of the latest update, indicating update frequency and ongoing\n",
    "optimization.\n",
    "\n",
    "**Ethical Considerations:** The dataset is publicly available and does not contain sensitive\n",
    "information, so ethical risks are minimal."
   ]
  },
  {
   "cell_type": "markdown",
   "id": "6679a16b-5616-431d-9ea5-1547f96965a4",
   "metadata": {},
   "source": [
    "### 4.2 Statistical approach\n",
    "This study proposes to employ a data-driven approach to analyze the influence of various app attributes on user ratings within the Google Play Store. The analysis process will involve several key steps to ensure a comprehensive understanding of how these attributes impact user evaluations and overall app success.\n",
    "\r",
    "First, we plan to collect a dataset containing detailed information on app attributes, such as category, price, user interface (UI) design, user experience (UX) features, update frequency, and user ratings. This data will provide the foundation for examining both the direct and indirect relationships between app characteristics and user satisfaction.\n",
    "\n",
    "Next, we will conduct an exploratory data analysis (EDA) to identify patterns and distributions within the data. This step will include visualizing relationships between specific attributes (e.g., pricing, update frequency) and user ratings, revealing initial insights into potential correlations.\n",
    "\n",
    "Following EDA, we intend to apply machine learning models to predict user ratings based on selected app attributes. We plan to experiment with several predictive modeling techniques, including regression analysis and classification algorithms, to assess which models best capture the influence of these attributes. We will also implement feature engineering to optimize the dataset by creating new variables that may provide deeper insights, such as average rating per category or update frequency over time.\n",
    "\n",
    "We propose to use statistical models such as multiple linear regression, logistic regression, and random forests to quantify the impact of various attributes on ratings. Additionally, we will consider employing dimensionality reduction techniques like principal component analysis (PCA) and factor analysis to handle high-dimensional data and identify potential latent structures.\n",
    "\n",
    "To ensure the statistical significance and reliability of our results, we will conduct rigorous hypothesis testing, including t-tests, F-tests, and chi-square tests. We will also calculate effect sizes and confidence intervals to assess the practical significance of our findings. Furthermore, we plan to utilize resampling techniques such as cross-validation and bootstrapping to evaluate the generalizability and stability of our models.\n",
    "\n",
    "Finally, we will validate the model's accuracy using metrics such as root mean square error (RMSE) for regression models or accuracy and F1 score for classification models. This validation step will ensure the robustness of our model and help us identify the most influential factors in determining app ratings. Through this structured approach, our analysis aims to uncover actionable insights that developers and marketers can use to enhance user satisfaction, app performance, and market competitiveness. This research will provide valuable statistical insights into understanding the dynamics of the mobile application market.market."
   ]
  },
  {
   "cell_type": "markdown",
   "id": "ed33a676-e951-46ea-a532-f324d86ba711",
   "metadata": {},
   "source": [
    "# 5 Unknowns and Dependencies\n",
    "## 5.1 Potential Challenges and Risks\n",
    "- **Data Quality Concerns:** The dataset presents missing values and potential outliers, requiring rigorous data preprocessing, including imputation and outlier treatment, to ensure\n",
    "data integrity and analytical reliability."
   ]
  },
  {
   "cell_type": "markdown",
   "id": "2963c8cb-7c18-4d11-8c04-17262a79a8e9",
   "metadata": {},
   "source": [
    "## References\n",
    "[1] Nikola Bojović and Mohsen Fazelpour. The impact of app update frequency on user satis-\n",
    "faction: Exploring the relationship between update intervals and user experience in hedonic\n",
    "apps. Master’s thesis, School of Engineering, Jönköping University, September 2024. Ex-\n",
    "aminer: Bruce Ferwerda; Supervisor: Mexhid Ferati.\n",
    "\n",
    "[2] Arun Jangir. Google play store apps rating prediction. https://www.kaggle.com/\n",
    "code/arunjangir245/google-playstore-apps-rating-prediction/notebook#Step-1-%\n",
    "7C-Setup-and-Initialization, 2023. Accessed: YYYY-MM-DD.\n",
    "\n",
    "[3] Eline Jongmans, Florence Jeannot, Lan Liang, and Maud Damperat. Impact of website\n",
    "visual design on user experience and website evaluation: the sequential mediating roles of\n",
    "usability and pleasure. Journal of Marketing Management, 38:1–36, 2022.\n",
    "\n",
    "[4] Adi Mizrahi. Application loading speed impact, 2023. Medium, accessed February 25,\n",
    "2023.\n",
    "\n",
    "[5] Winnie Ng Picoto, Ricardo Duarte, and Inês Pinto. Uncovering top-ranking factors for\n",
    "mobile apps through a multimethod approach. Journal of Business Research, 101:668–\n",
    "674, 2019.\n",
    "\n",
    "[6] Yan Qi and Rui Xu. Research on user interface design and interaction experience: A\n",
    "case study from ”duolingo” platform. ICST Transactions on Scalable Information Systems,\n",
    "11(5), 2024.\n",
    "\n",
    "[7] Marcus Wolkenfelt and Frederik Bungaran Ishak Situmeang. Effects of app pricing struc-\n",
    "tures on product evaluations. Journal of Research in Interactive Marketing, 14(1):89–110,\n",
    "2020."
   ]
  },
  {
   "cell_type": "markdown",
   "id": "e33e4a40-0a1b-4e91-b669-275c7fefa4c8",
   "metadata": {},
   "source": [
    "*Use of GPT in this assignment*: Chatgpt has been used to improve the overall structure and format in markdown code. The following prompt has been used:\n",
    "- Help me to generate markdown code by using following text\n",
    "- Help me to generate a list of variable and explanation with the screenshot (the screenshot of Kaggle dataset source)."
   ]
  },
  {
   "cell_type": "code",
   "execution_count": null,
   "id": "88803a41-0f6f-44a1-8edf-019135e83d91",
   "metadata": {},
   "outputs": [
    {
     "name": "stdout",
     "output_type": "stream",
     "text": [
      "Archive:  googleplaystore.csv.zip\n",
      "replace googleplaystore.csv? [y]es, [n]o, [A]ll, [N]one, [r]ename: "
     ]
    }
   ],
   "source": [
    "!unzip googleplaystore.csv.zip"
   ]
  }
 ],
 "metadata": {
  "kernelspec": {
   "display_name": "Python 3 (ipykernel)",
   "language": "python",
   "name": "python3"
  },
  "language_info": {
   "codemirror_mode": {
    "name": "ipython",
    "version": 3
   },
   "file_extension": ".py",
   "mimetype": "text/x-python",
   "name": "python",
   "nbconvert_exporter": "python",
   "pygments_lexer": "ipython3",
   "version": "3.10.13"
  }
 },
 "nbformat": 4,
 "nbformat_minor": 5
}
