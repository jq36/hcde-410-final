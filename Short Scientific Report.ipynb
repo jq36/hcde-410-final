{
 "cells": [
  {
   "cell_type": "markdown",
   "id": "ec98b7f8-a371-49d0-9de7-1976be67b069",
   "metadata": {},
   "source": [
    "# **Short Scientific Report: Google Play Store App Ratings**\n",
    "\n",
    "## **Abstract**\n",
    "This study examines the impact of app attributes (e.g., category, size, price) on user ratings using a Google Play Store dataset. A predictive model was developed using machine learning, identifying app size and installs as key factors influencing ratings. Results show that smaller, frequently updated apps tend to achieve higher user satisfaction, providing actionable insights for developers and marketers.\n",
    "\n",
    "## **Key Findings**\n",
    "- **Top Features**: App size (importance: 0.1439) and installs (importance: 0.1048) significantly affect ratings.\n",
    "- **Model Performance**: Random Forest achieved an R² of 0.85 with a Mean Squared Error (MSE) of 0.3005.\n",
    "- **Category Insights**: FAMILY and FINANCE apps have higher average ratings compared to other categories.\n",
    "\n",
    "## **Conclusion**\n",
    "Optimizing app size and focusing on frequent updates can enhance user satisfaction. These insights help app developers design competitive, user-centric applications.\n",
    "\n",
    "## **Dataset**\n",
    "- Source: [Kaggle Google Play Store Apps](https://www.kaggle.com/code/arunjangir245/google-playstore-apps-rating-prediction)\n",
    "- License: Apache 2.0\n"
   ]
  }
 ],
 "metadata": {
  "kernelspec": {
   "display_name": "Python 3 (ipykernel)",
   "language": "python",
   "name": "python3"
  },
  "language_info": {
   "codemirror_mode": {
    "name": "ipython",
    "version": 3
   },
   "file_extension": ".py",
   "mimetype": "text/x-python",
   "name": "python",
   "nbconvert_exporter": "python",
   "pygments_lexer": "ipython3",
   "version": "3.10.13"
  }
 },
 "nbformat": 4,
 "nbformat_minor": 5
}
